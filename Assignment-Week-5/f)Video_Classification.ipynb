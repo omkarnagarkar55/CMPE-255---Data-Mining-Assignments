{
  "cells": [
    {
      "cell_type": "markdown",
      "id": "c120ae60",
      "metadata": {
        "id": "c120ae60"
      },
      "source": [
        "# Video Classification using H2O's AutoML"
      ]
    },
    {
      "cell_type": "markdown",
      "id": "94cb0b79",
      "metadata": {
        "id": "94cb0b79"
      },
      "source": [
        "\n",
        "In this notebook, we'll explore how to preprocess video data, extract features, and use H2O's AutoML for classification.\n"
      ]
    },
    {
      "cell_type": "code",
      "source": [
        "!pip install h2o"
      ],
      "metadata": {
        "colab": {
          "base_uri": "https://localhost:8080/"
        },
        "id": "exl2-K2UYvOh",
        "outputId": "883227c2-372c-4c8f-f653-954307fe6694"
      },
      "id": "exl2-K2UYvOh",
      "execution_count": 24,
      "outputs": [
        {
          "output_type": "stream",
          "name": "stdout",
          "text": [
            "Requirement already satisfied: h2o in /usr/local/lib/python3.10/dist-packages (3.44.0.1)\n",
            "Requirement already satisfied: requests in /usr/local/lib/python3.10/dist-packages (from h2o) (2.31.0)\n",
            "Requirement already satisfied: tabulate in /usr/local/lib/python3.10/dist-packages (from h2o) (0.9.0)\n",
            "Requirement already satisfied: charset-normalizer<4,>=2 in /usr/local/lib/python3.10/dist-packages (from requests->h2o) (3.3.1)\n",
            "Requirement already satisfied: idna<4,>=2.5 in /usr/local/lib/python3.10/dist-packages (from requests->h2o) (3.4)\n",
            "Requirement already satisfied: urllib3<3,>=1.21.1 in /usr/local/lib/python3.10/dist-packages (from requests->h2o) (2.0.7)\n",
            "Requirement already satisfied: certifi>=2017.4.17 in /usr/local/lib/python3.10/dist-packages (from requests->h2o) (2023.7.22)\n"
          ]
        }
      ]
    },
    {
      "cell_type": "code",
      "source": [
        "!unzip HAR"
      ],
      "metadata": {
        "colab": {
          "base_uri": "https://localhost:8080/"
        },
        "id": "JEtXKIt3ZBqP",
        "outputId": "bcf36648-4c77-41b7-c1e5-33a4d62ec564"
      },
      "id": "JEtXKIt3ZBqP",
      "execution_count": 25,
      "outputs": [
        {
          "output_type": "stream",
          "name": "stdout",
          "text": [
            "Archive:  HAR.zip\n",
            "replace HAR/eat/20060723sfjffdabaum_eat_h_cm_np1_fr_goo_0.avi? [y]es, [n]o, [A]ll, [N]one, [r]ename: "
          ]
        }
      ]
    },
    {
      "cell_type": "markdown",
      "id": "40c5039a",
      "metadata": {
        "id": "40c5039a"
      },
      "source": [
        "## Importing Necessary Libraries"
      ]
    },
    {
      "cell_type": "code",
      "execution_count": 26,
      "id": "776b6ec8",
      "metadata": {
        "id": "776b6ec8"
      },
      "outputs": [],
      "source": [
        "\n",
        "import os\n",
        "import cv2\n",
        "import numpy as np\n",
        "import matplotlib.pyplot as plt\n",
        "from sklearn.model_selection import train_test_split\n",
        "import h2o\n",
        "from h2o.automl import H2OAutoML\n"
      ]
    },
    {
      "cell_type": "markdown",
      "id": "a3c3fefd",
      "metadata": {
        "id": "a3c3fefd"
      },
      "source": [
        "## Data Exploration and Visualization"
      ]
    },
    {
      "cell_type": "code",
      "execution_count": 27,
      "id": "76df10ad",
      "metadata": {
        "colab": {
          "base_uri": "https://localhost:8080/"
        },
        "id": "76df10ad",
        "outputId": "92f19364-405f-4fdf-c07b-5753f5735c22"
      },
      "outputs": [
        {
          "output_type": "execute_result",
          "data": {
            "text/plain": [
              "(108, 136)"
            ]
          },
          "metadata": {},
          "execution_count": 27
        }
      ],
      "source": [
        "# List the files in the 'eat' and 'fall_floor' directories\n",
        "eat_files = os.listdir(\"/content/HAR/eat\")\n",
        "fall_floor_files = os.listdir(\"/content/HAR/fall_floor\")\n",
        "\n",
        "eat_files_count = len(eat_files)\n",
        "fall_floor_files_count = len(fall_floor_files)\n",
        "\n",
        "eat_files_count, fall_floor_files_count\n",
        "\n"
      ]
    },
    {
      "cell_type": "code",
      "source": [
        "# Check the first few file extensions in both categories\n",
        "eat_file_types = set([os.path.splitext(file)[1] for file in eat_files])\n",
        "fall_floor_file_types = set([os.path.splitext(file)[1] for file in fall_floor_files])\n",
        "\n",
        "eat_file_types, fall_floor_file_types\n"
      ],
      "metadata": {
        "colab": {
          "base_uri": "https://localhost:8080/"
        },
        "id": "IlUQUGWNZv-Z",
        "outputId": "5ab3fab3-c754-4b87-8923-b0fff402185a"
      },
      "id": "IlUQUGWNZv-Z",
      "execution_count": 28,
      "outputs": [
        {
          "output_type": "execute_result",
          "data": {
            "text/plain": [
              "({'.avi'}, {'.avi'})"
            ]
          },
          "metadata": {},
          "execution_count": 28
        }
      ]
    },
    {
      "cell_type": "markdown",
      "id": "c5e828a2",
      "metadata": {
        "id": "c5e828a2"
      },
      "source": [
        "## Feature Extraction"
      ]
    },
    {
      "cell_type": "code",
      "execution_count": 29,
      "id": "fb02d720",
      "metadata": {
        "colab": {
          "base_uri": "https://localhost:8080/",
          "height": 76
        },
        "id": "fb02d720",
        "outputId": "da31b5a7-d65f-4b7d-8921-147dffccb9c3"
      },
      "outputs": [
        {
          "output_type": "display_data",
          "data": {
            "text/plain": [
              "<Figure size 1500x500 with 10 Axes>"
            ],
            "image/png": "[encoded data removed]"
          },
          "metadata": {}
        }
      ],
      "source": [
        "import cv2\n",
        "import matplotlib.pyplot as plt\n",
        "\n",
        "# Load a sample video from the 'eat' category\n",
        "sample_video_path = os.path.join(\"/content/HAR/eat\", eat_files[0])\n",
        "cap = cv2.VideoCapture(sample_video_path)\n",
        "\n",
        "# Extract a few frames from the video\n",
        "frames = []\n",
        "for i in range(10):\n",
        "    ret, frame = cap.read()\n",
        "    if ret:\n",
        "        # Convert the frame from BGR to RGB\n",
        "        frame_rgb = cv2.cvtColor(frame, cv2.COLOR_BGR2RGB)\n",
        "        frames.append(frame_rgb)\n",
        "\n",
        "# Close the video file\n",
        "cap.release()\n",
        "\n",
        "# Display the extracted frames\n",
        "fig, axs = plt.subplots(1, len(frames), figsize=(15, 5))\n",
        "for ax, frm in zip(axs, frames):\n",
        "    ax.imshow(frm)\n",
        "    ax.axis('off')\n",
        "\n",
        "plt.tight_layout()\n",
        "plt.show()\n"
      ]
    },
    {
      "cell_type": "markdown",
      "id": "0b5a1a45",
      "metadata": {
        "id": "0b5a1a45"
      },
      "source": [
        "## Preparing Data for H2O"
      ]
    },
    {
      "cell_type": "code",
      "source": [
        "import numpy as np\n",
        "\n",
        "def extract_video_features(video_path, frame_size=(64, 64), frames_to_extract=10):\n",
        "    \"\"\"\n",
        "    Extract features from a video.\n",
        "\n",
        "    Parameters:\n",
        "    - video_path: Path to the video file.\n",
        "    - frame_size: Size to which each frame will be resized.\n",
        "    - frames_to_extract: Number of frames to extract from the video.\n",
        "\n",
        "    Returns:\n",
        "    - A flattened numpy array containing features of the video.\n",
        "    \"\"\"\n",
        "    cap = cv2.VideoCapture(video_path)\n",
        "    frame_count = int(cap.get(cv2.CAP_PROP_FRAME_COUNT))\n",
        "    step = frame_count // frames_to_extract\n",
        "\n",
        "    features = []\n",
        "\n",
        "    for i in range(frames_to_extract):\n",
        "        cap.set(cv2.CAP_PROP_POS_FRAMES, i * step)\n",
        "        ret, frame = cap.read()\n",
        "        if ret:\n",
        "            resized_frame = cv2.resize(frame, frame_size)\n",
        "            features.append(resized_frame)\n",
        "\n",
        "    cap.release()\n",
        "\n",
        "    # Average the features across all frames and flatten\n",
        "    averaged_features = np.mean(features, axis=0).flatten()\n",
        "\n",
        "    return averaged_features\n",
        "\n",
        "# Extract features for a subset of videos from both categories\n",
        "num_samples = 10  # For demonstration purposes, we'll only use a subset\n",
        "eat_features = [extract_video_features(os.path.join(\"/content/HAR/eat\", file)) for file in eat_files[:num_samples]]\n",
        "fall_floor_features = [extract_video_features(os.path.join(\"/content/HAR/fall_floor\", file)) for file in fall_floor_files[:num_samples]]\n",
        "\n",
        "len(eat_features), len(fall_floor_features)\n"
      ],
      "metadata": {
        "colab": {
          "base_uri": "https://localhost:8080/"
        },
        "id": "rW2grKqWaBjj",
        "outputId": "beb0b90c-df5c-4971-f422-9e31be68a5ff"
      },
      "id": "rW2grKqWaBjj",
      "execution_count": 30,
      "outputs": [
        {
          "output_type": "execute_result",
          "data": {
            "text/plain": [
              "(10, 10)"
            ]
          },
          "metadata": {},
          "execution_count": 30
        }
      ]
    },
    {
      "cell_type": "code",
      "execution_count": 31,
      "id": "83965aa8",
      "metadata": {
        "colab": {
          "base_uri": "https://localhost:8080/"
        },
        "id": "83965aa8",
        "outputId": "2999b5f0-5cb5-49d9-b30c-df6464dc395c"
      },
      "outputs": [
        {
          "output_type": "execute_result",
          "data": {
            "text/plain": [
              "(16, 4)"
            ]
          },
          "metadata": {},
          "execution_count": 31
        }
      ],
      "source": [
        "from sklearn.model_selection import train_test_split\n",
        "\n",
        "# Combine features and create labels\n",
        "X = eat_features + fall_floor_features\n",
        "y = [0] * len(eat_features) + [1] * len(fall_floor_features)  # 0 for 'eat' and 1 for 'fall_floor'\n",
        "\n",
        "# Split the dataset into training and testing sets\n",
        "X_train, X_test, y_train, y_test = train_test_split(X, y, test_size=0.2, random_state=42)\n",
        "\n",
        "len(X_train), len(X_test)\n",
        "\n"
      ]
    },
    {
      "cell_type": "code",
      "source": [
        "X_train[0]"
      ],
      "metadata": {
        "colab": {
          "base_uri": "https://localhost:8080/"
        },
        "id": "4IKYFLLDa52i",
        "outputId": "bd438c71-150c-44ce-ff7a-22157c2a089f"
      },
      "id": "4IKYFLLDa52i",
      "execution_count": 32,
      "outputs": [
        {
          "output_type": "execute_result",
          "data": {
            "text/plain": [
              "array([30.2, 43.9, 36.1, ...,  3. ,  5. ,  6.6])"
            ]
          },
          "metadata": {},
          "execution_count": 32
        }
      ]
    },
    {
      "cell_type": "markdown",
      "id": "72072329",
      "metadata": {
        "id": "72072329"
      },
      "source": [
        "## Using H2O's AutoML"
      ]
    },
    {
      "cell_type": "code",
      "execution_count": 33,
      "id": "79b1f2cc",
      "metadata": {
        "colab": {
          "base_uri": "https://localhost:8080/",
          "height": 416
        },
        "id": "79b1f2cc",
        "outputId": "dc4dba5d-d48c-4e99-a3f0-8b7adc60efe0"
      },
      "outputs": [
        {
          "output_type": "stream",
          "name": "stdout",
          "text": [
            "Checking whether there is an H2O instance running at http://localhost:54321. connected.\n"
          ]
        },
        {
          "output_type": "display_data",
          "data": {
            "text/plain": [
              "--------------------------  -----------------------------------------------------------------------------------------\n",
              "H2O_cluster_uptime:         8 mins 34 secs\n",
              "H2O_cluster_timezone:       Etc/UTC\n",
              "H2O_data_parsing_timezone:  UTC\n",
              "H2O_cluster_version:        3.44.0.1\n",
              "H2O_cluster_version_age:    15 days\n",
              "H2O_cluster_name:           H2O_from_python_unknownUser_vcgctp\n",
              "H2O_cluster_total_nodes:    1\n",
              "H2O_cluster_free_memory:    3.170 Gb\n",
              "H2O_cluster_total_cores:    2\n",
              "H2O_cluster_allowed_cores:  2\n",
              "H2O_cluster_status:         locked, healthy\n",
              "H2O_connection_url:         http://localhost:54321\n",
              "H2O_connection_proxy:       {\"http\": null, \"https\": null, \"colab_language_server\": \"/usr/colab/bin/language_service\"}\n",
              "H2O_internal_security:      False\n",
              "Python_version:             3.10.12 final\n",
              "--------------------------  -----------------------------------------------------------------------------------------"
            ],
            "text/html": [
              "\n",
              "<style>\n",
              "\n",
              "#h2o-table-7.h2o-container {\n",
              "  overflow-x: auto;\n",
              "}\n",
              "#h2o-table-7 .h2o-table {\n",
              "  /* width: 100%; */\n",
              "  margin-top: 1em;\n",
              "  margin-bottom: 1em;\n",
              "}\n",
              "#h2o-table-7 .h2o-table caption {\n",
              "  white-space: nowrap;\n",
              "  caption-side: top;\n",
              "  text-align: left;\n",
              "  /* margin-left: 1em; */\n",
              "  margin: 0;\n",
              "  font-size: larger;\n",
              "}\n",
              "#h2o-table-7 .h2o-table thead {\n",
              "  white-space: nowrap; \n",
              "  position: sticky;\n",
              "  top: 0;\n",
              "  box-shadow: 0 -1px inset;\n",
              "}\n",
              "#h2o-table-7 .h2o-table tbody {\n",
              "  overflow: auto;\n",
              "}\n",
              "#h2o-table-7 .h2o-table th,\n",
              "#h2o-table-7 .h2o-table td {\n",
              "  text-align: right;\n",
              "  /* border: 1px solid; */\n",
              "}\n",
              "#h2o-table-7 .h2o-table tr:nth-child(even) {\n",
              "  /* background: #F5F5F5 */\n",
              "}\n",
              "\n",
              "</style>      \n",
              "<div id=\"h2o-table-7\" class=\"h2o-container\">\n",
              "  <table class=\"h2o-table\">\n",
              "    <caption></caption>\n",
              "    <thead></thead>\n",
              "    <tbody><tr><td>H2O_cluster_uptime:</td>\n",
              "<td>8 mins 34 secs</td></tr>\n",
              "<tr><td>H2O_cluster_timezone:</td>\n",
              "<td>Etc/UTC</td></tr>\n",
              "<tr><td>H2O_data_parsing_timezone:</td>\n",
              "<td>UTC</td></tr>\n",
              "<tr><td>H2O_cluster_version:</td>\n",
              "<td>3.44.0.1</td></tr>\n",
              "<tr><td>H2O_cluster_version_age:</td>\n",
              "<td>15 days</td></tr>\n",
              "<tr><td>H2O_cluster_name:</td>\n",
              "<td>H2O_from_python_unknownUser_vcgctp</td></tr>\n",
              "<tr><td>H2O_cluster_total_nodes:</td>\n",
              "<td>1</td></tr>\n",
              "<tr><td>H2O_cluster_free_memory:</td>\n",
              "<td>3.170 Gb</td></tr>\n",
              "<tr><td>H2O_cluster_total_cores:</td>\n",
              "<td>2</td></tr>\n",
              "<tr><td>H2O_cluster_allowed_cores:</td>\n",
              "<td>2</td></tr>\n",
              "<tr><td>H2O_cluster_status:</td>\n",
              "<td>locked, healthy</td></tr>\n",
              "<tr><td>H2O_connection_url:</td>\n",
              "<td>http://localhost:54321</td></tr>\n",
              "<tr><td>H2O_connection_proxy:</td>\n",
              "<td>{\"http\": null, \"https\": null, \"colab_language_server\": \"/usr/colab/bin/language_service\"}</td></tr>\n",
              "<tr><td>H2O_internal_security:</td>\n",
              "<td>False</td></tr>\n",
              "<tr><td>Python_version:</td>\n",
              "<td>3.10.12 final</td></tr></tbody>\n",
              "  </table>\n",
              "</div>\n"
            ]
          },
          "metadata": {}
        },
        {
          "output_type": "stream",
          "name": "stdout",
          "text": [
            "Parse progress: |████████████████████████████████████████████████████████████████| (done) 100%\n",
            "Parse progress: |████████████████████████████████████████████████████████████████| (done) 100%\n"
          ]
        }
      ],
      "source": [
        "\n",
        "import h2o\n",
        "from h2o.automl import H2OAutoML\n",
        "import pandas as pd\n",
        "\n",
        "# Initialize the H2O cluster\n",
        "h2o.init()\n",
        "\n",
        "# Convert the dataset into H2OFrame\n",
        "hf_train = h2o.H2OFrame(pd.concat([pd.DataFrame(X_train), pd.Series(y_train, name='label')], axis=1))\n",
        "hf_test = h2o.H2OFrame(pd.concat([pd.DataFrame(X_test), pd.Series(y_test, name='label')], axis=1))\n",
        "\n",
        "# Specify the response column\n",
        "response = \"label\"\n"
      ]
    },
    {
      "cell_type": "code",
      "source": [
        "# Run AutoML\n",
        "aml = H2OAutoML(max_models=1, seed=42, max_runtime_secs=600)\n",
        "aml.train(y=response, training_frame=hf_train)\n",
        "\n"
      ],
      "metadata": {
        "colab": {
          "base_uri": "https://localhost:8080/",
          "height": 1000
        },
        "id": "gHzknRCzajQm",
        "outputId": "27949e80-daf7-42f2-cb87-bd7cff9d74e4"
      },
      "id": "gHzknRCzajQm",
      "execution_count": 34,
      "outputs": [
        {
          "output_type": "stream",
          "name": "stdout",
          "text": [
            "AutoML progress: |\n",
            "01:21:53.623: _response param, We have detected that your response column has only 2 unique values (0/1). If you wish to train a binary model instead of a regression model, convert your target column to categorical before training.\n",
            "\n",
            "███████████████████████████████████████████████████████████████| (done) 100%\n"
          ]
        },
        {
          "output_type": "execute_result",
          "data": {
            "text/plain": [
              "Model Details\n",
              "=============\n",
              "H2OXGBoostEstimator : XGBoost\n",
              "Model Key: XGBoost_1_AutoML_1_20231101_12151\n",
              "\n",
              "\n",
              "Model Summary: \n",
              "    number_of_trees\n",
              "--  -----------------\n",
              "    30\n",
              "\n",
              "ModelMetricsRegression: xgboost\n",
              "** Reported on train data. **\n",
              "\n",
              "MSE: 0.2504863034084792\n",
              "RMSE: 0.5004860671472077\n",
              "MAE: 0.5\n",
              "RMSLE: 0.34936567543611585\n",
              "Mean Residual Deviance: 0.2504863034084792\n",
              "\n",
              "ModelMetricsRegression: xgboost\n",
              "** Reported on cross-validation data. **\n",
              "\n",
              "MSE: 0.2778425355366398\n",
              "RMSE: 0.5271077077188682\n",
              "MAE: 0.5243861433118582\n",
              "RMSLE: 0.3687513358011127\n",
              "Mean Residual Deviance: 0.2778425355366398\n",
              "\n",
              "Cross-Validation Metrics Summary: \n",
              "                        mean      sd         cv_1_valid    cv_2_valid    cv_3_valid    cv_4_valid    cv_5_valid\n",
              "----------------------  --------  ---------  ------------  ------------  ------------  ------------  ------------\n",
              "mae                     0.526012  0.0550623  0.5           0.492712      0.517396      0.496885      0.623065\n",
              "mean_residual_deviance  0.279699  0.0615476  0.25          0.24319       0.27012       0.246973      0.38821\n",
              "mse                     0.279699  0.0615476  0.25          0.24319       0.27012       0.246973      0.38821\n",
              "r2                      -inf      nan        -0.333333     -0.0943561    -0.21554      -0.111377     -inf\n",
              "residual_deviance       0.279699  0.0615476  0.25          0.24319       0.27012       0.246973      0.38821\n",
              "rmse                    0.526581  0.0549044  0.5           0.493143      0.519731      0.496964      0.623065\n",
              "rmsle                   0.367474  0.0225297  0.379462      0.329462      0.387671      0.367488      0.373287\n",
              "\n",
              "Scoring History: \n",
              "    timestamp            duration    number_of_trees    training_rmse    training_mae    training_deviance\n",
              "--  -------------------  ----------  -----------------  ---------------  --------------  -------------------\n",
              "    2023-11-01 01:22:29  35.514 sec  0                  0.5              0.5             0.25\n",
              "    2023-11-01 01:22:29  36.030 sec  5                  0.500012         0.5             0.250012\n",
              "    2023-11-01 01:22:29  36.128 sec  10                 0.500297         0.5             0.250297\n",
              "    2023-11-01 01:22:29  36.226 sec  15                 0.500176         0.5             0.250176\n",
              "    2023-11-01 01:22:30  36.398 sec  20                 0.501517         0.5             0.251519\n",
              "    2023-11-01 01:22:30  36.479 sec  25                 0.500018         0.5             0.250018\n",
              "    2023-11-01 01:22:30  36.567 sec  30                 0.500486         0.5             0.250486\n",
              "\n",
              "[tips]\n",
              "Use `model.explain()` to inspect the model.\n",
              "--\n",
              "Use `h2o.display.toggle_user_tips()` to switch on/off this section."
            ],
            "text/html": [
              "<pre style='margin: 1em 0 1em 0;'>Model Details\n",
              "=============\n",
              "H2OXGBoostEstimator : XGBoost\n",
              "Model Key: XGBoost_1_AutoML_1_20231101_12151\n",
              "</pre>\n",
              "<div style='margin: 1em 0 1em 0;'>\n",
              "<style>\n",
              "\n",
              "#h2o-table-8.h2o-container {\n",
              "  overflow-x: auto;\n",
              "}\n",
              "#h2o-table-8 .h2o-table {\n",
              "  /* width: 100%; */\n",
              "  margin-top: 1em;\n",
              "  margin-bottom: 1em;\n",
              "}\n",
              "#h2o-table-8 .h2o-table caption {\n",
              "  white-space: nowrap;\n",
              "  caption-side: top;\n",
              "  text-align: left;\n",
              "  /* margin-left: 1em; */\n",
              "  margin: 0;\n",
              "  font-size: larger;\n",
              "}\n",
              "#h2o-table-8 .h2o-table thead {\n",
              "  white-space: nowrap; \n",
              "  position: sticky;\n",
              "  top: 0;\n",
              "  box-shadow: 0 -1px inset;\n",
              "}\n",
              "#h2o-table-8 .h2o-table tbody {\n",
              "  overflow: auto;\n",
              "}\n",
              "#h2o-table-8 .h2o-table th,\n",
              "#h2o-table-8 .h2o-table td {\n",
              "  text-align: right;\n",
              "  /* border: 1px solid; */\n",
              "}\n",
              "#h2o-table-8 .h2o-table tr:nth-child(even) {\n",
              "  /* background: #F5F5F5 */\n",
              "}\n",
              "\n",
              "</style>      \n",
              "<div id=\"h2o-table-8\" class=\"h2o-container\">\n",
              "  <table class=\"h2o-table\">\n",
              "    <caption>Model Summary: </caption>\n",
              "    <thead><tr><th></th>\n",
              "<th>number_of_trees</th></tr></thead>\n",
              "    <tbody><tr><td></td>\n",
              "<td>30.0</td></tr></tbody>\n",
              "  </table>\n",
              "</div>\n",
              "</div>\n",
              "<div style='margin: 1em 0 1em 0;'><pre style='margin: 1em 0 1em 0;'>ModelMetricsRegression: xgboost\n",
              "** Reported on train data. **\n",
              "\n",
              "MSE: 0.2504863034084792\n",
              "RMSE: 0.5004860671472077\n",
              "MAE: 0.5\n",
              "RMSLE: 0.34936567543611585\n",
              "Mean Residual Deviance: 0.2504863034084792</pre></div>\n",
              "<div style='margin: 1em 0 1em 0;'><pre style='margin: 1em 0 1em 0;'>ModelMetricsRegression: xgboost\n",
              "** Reported on cross-validation data. **\n",
              "\n",
              "MSE: 0.2778425355366398\n",
              "RMSE: 0.5271077077188682\n",
              "MAE: 0.5243861433118582\n",
              "RMSLE: 0.3687513358011127\n",
              "Mean Residual Deviance: 0.2778425355366398</pre></div>\n",
              "<div style='margin: 1em 0 1em 0;'>\n",
              "<style>\n",
              "\n",
              "#h2o-table-9.h2o-container {\n",
              "  overflow-x: auto;\n",
              "}\n",
              "#h2o-table-9 .h2o-table {\n",
              "  /* width: 100%; */\n",
              "  margin-top: 1em;\n",
              "  margin-bottom: 1em;\n",
              "}\n",
              "#h2o-table-9 .h2o-table caption {\n",
              "  white-space: nowrap;\n",
              "  caption-side: top;\n",
              "  text-align: left;\n",
              "  /* margin-left: 1em; */\n",
              "  margin: 0;\n",
              "  font-size: larger;\n",
              "}\n",
              "#h2o-table-9 .h2o-table thead {\n",
              "  white-space: nowrap; \n",
              "  position: sticky;\n",
              "  top: 0;\n",
              "  box-shadow: 0 -1px inset;\n",
              "}\n",
              "#h2o-table-9 .h2o-table tbody {\n",
              "  overflow: auto;\n",
              "}\n",
              "#h2o-table-9 .h2o-table th,\n",
              "#h2o-table-9 .h2o-table td {\n",
              "  text-align: right;\n",
              "  /* border: 1px solid; */\n",
              "}\n",
              "#h2o-table-9 .h2o-table tr:nth-child(even) {\n",
              "  /* background: #F5F5F5 */\n",
              "}\n",
              "\n",
              "</style>      \n",
              "<div id=\"h2o-table-9\" class=\"h2o-container\">\n",
              "  <table class=\"h2o-table\">\n",
              "    <caption>Cross-Validation Metrics Summary: </caption>\n",
              "    <thead><tr><th></th>\n",
              "<th>mean</th>\n",
              "<th>sd</th>\n",
              "<th>cv_1_valid</th>\n",
              "<th>cv_2_valid</th>\n",
              "<th>cv_3_valid</th>\n",
              "<th>cv_4_valid</th>\n",
              "<th>cv_5_valid</th></tr></thead>\n",
              "    <tbody><tr><td>mae</td>\n",
              "<td>0.5260119</td>\n",
              "<td>0.0550623</td>\n",
              "<td>0.5</td>\n",
              "<td>0.4927122</td>\n",
              "<td>0.5173963</td>\n",
              "<td>0.4968855</td>\n",
              "<td>0.6230653</td></tr>\n",
              "<tr><td>mean_residual_deviance</td>\n",
              "<td>0.2796987</td>\n",
              "<td>0.0615476</td>\n",
              "<td>0.25</td>\n",
              "<td>0.2431902</td>\n",
              "<td>0.2701201</td>\n",
              "<td>0.2469727</td>\n",
              "<td>0.3882105</td></tr>\n",
              "<tr><td>mse</td>\n",
              "<td>0.2796987</td>\n",
              "<td>0.0615476</td>\n",
              "<td>0.25</td>\n",
              "<td>0.2431902</td>\n",
              "<td>0.2701201</td>\n",
              "<td>0.2469727</td>\n",
              "<td>0.3882105</td></tr>\n",
              "<tr><td>r2</td>\n",
              "<td>-inf</td>\n",
              "<td>nan</td>\n",
              "<td>-0.3333333</td>\n",
              "<td>-0.0943561</td>\n",
              "<td>-0.2155402</td>\n",
              "<td>-0.1113774</td>\n",
              "<td>-inf</td></tr>\n",
              "<tr><td>residual_deviance</td>\n",
              "<td>0.2796987</td>\n",
              "<td>0.0615476</td>\n",
              "<td>0.25</td>\n",
              "<td>0.2431902</td>\n",
              "<td>0.2701201</td>\n",
              "<td>0.2469727</td>\n",
              "<td>0.3882105</td></tr>\n",
              "<tr><td>rmse</td>\n",
              "<td>0.5265806</td>\n",
              "<td>0.0549044</td>\n",
              "<td>0.5</td>\n",
              "<td>0.4931432</td>\n",
              "<td>0.5197308</td>\n",
              "<td>0.4969635</td>\n",
              "<td>0.6230653</td></tr>\n",
              "<tr><td>rmsle</td>\n",
              "<td>0.3674741</td>\n",
              "<td>0.0225297</td>\n",
              "<td>0.3794624</td>\n",
              "<td>0.3294617</td>\n",
              "<td>0.3876706</td>\n",
              "<td>0.3674883</td>\n",
              "<td>0.3732874</td></tr></tbody>\n",
              "  </table>\n",
              "</div>\n",
              "</div>\n",
              "<div style='margin: 1em 0 1em 0;'>\n",
              "<style>\n",
              "\n",
              "#h2o-table-10.h2o-container {\n",
              "  overflow-x: auto;\n",
              "}\n",
              "#h2o-table-10 .h2o-table {\n",
              "  /* width: 100%; */\n",
              "  margin-top: 1em;\n",
              "  margin-bottom: 1em;\n",
              "}\n",
              "#h2o-table-10 .h2o-table caption {\n",
              "  white-space: nowrap;\n",
              "  caption-side: top;\n",
              "  text-align: left;\n",
              "  /* margin-left: 1em; */\n",
              "  margin: 0;\n",
              "  font-size: larger;\n",
              "}\n",
              "#h2o-table-10 .h2o-table thead {\n",
              "  white-space: nowrap; \n",
              "  position: sticky;\n",
              "  top: 0;\n",
              "  box-shadow: 0 -1px inset;\n",
              "}\n",
              "#h2o-table-10 .h2o-table tbody {\n",
              "  overflow: auto;\n",
              "}\n",
              "#h2o-table-10 .h2o-table th,\n",
              "#h2o-table-10 .h2o-table td {\n",
              "  text-align: right;\n",
              "  /* border: 1px solid; */\n",
              "}\n",
              "#h2o-table-10 .h2o-table tr:nth-child(even) {\n",
              "  /* background: #F5F5F5 */\n",
              "}\n",
              "\n",
              "</style>      \n",
              "<div id=\"h2o-table-10\" class=\"h2o-container\">\n",
              "  <table class=\"h2o-table\">\n",
              "    <caption>Scoring History: </caption>\n",
              "    <thead><tr><th></th>\n",
              "<th>timestamp</th>\n",
              "<th>duration</th>\n",
              "<th>number_of_trees</th>\n",
              "<th>training_rmse</th>\n",
              "<th>training_mae</th>\n",
              "<th>training_deviance</th></tr></thead>\n",
              "    <tbody><tr><td></td>\n",
              "<td>2023-11-01 01:22:29</td>\n",
              "<td>35.514 sec</td>\n",
              "<td>0.0</td>\n",
              "<td>0.5</td>\n",
              "<td>0.5</td>\n",
              "<td>0.25</td></tr>\n",
              "<tr><td></td>\n",
              "<td>2023-11-01 01:22:29</td>\n",
              "<td>36.030 sec</td>\n",
              "<td>5.0</td>\n",
              "<td>0.5000118</td>\n",
              "<td>0.5</td>\n",
              "<td>0.2500118</td></tr>\n",
              "<tr><td></td>\n",
              "<td>2023-11-01 01:22:29</td>\n",
              "<td>36.128 sec</td>\n",
              "<td>10.0</td>\n",
              "<td>0.5002967</td>\n",
              "<td>0.5</td>\n",
              "<td>0.2502968</td></tr>\n",
              "<tr><td></td>\n",
              "<td>2023-11-01 01:22:29</td>\n",
              "<td>36.226 sec</td>\n",
              "<td>15.0</td>\n",
              "<td>0.5001759</td>\n",
              "<td>0.5</td>\n",
              "<td>0.2501759</td></tr>\n",
              "<tr><td></td>\n",
              "<td>2023-11-01 01:22:30</td>\n",
              "<td>36.398 sec</td>\n",
              "<td>20.0</td>\n",
              "<td>0.5015166</td>\n",
              "<td>0.5</td>\n",
              "<td>0.2515189</td></tr>\n",
              "<tr><td></td>\n",
              "<td>2023-11-01 01:22:30</td>\n",
              "<td>36.479 sec</td>\n",
              "<td>25.0</td>\n",
              "<td>0.5000176</td>\n",
              "<td>0.5</td>\n",
              "<td>0.2500176</td></tr>\n",
              "<tr><td></td>\n",
              "<td>2023-11-01 01:22:30</td>\n",
              "<td>36.567 sec</td>\n",
              "<td>30.0</td>\n",
              "<td>0.5004861</td>\n",
              "<td>0.5</td>\n",
              "<td>0.2504863</td></tr></tbody>\n",
              "  </table>\n",
              "</div>\n",
              "</div><pre style=\"font-size: smaller; margin: 1em 0 0 0;\">\n",
              "\n",
              "[tips]\n",
              "Use `model.explain()` to inspect the model.\n",
              "--\n",
              "Use `h2o.display.toggle_user_tips()` to switch on/off this section.</pre>"
            ]
          },
          "metadata": {},
          "execution_count": 34
        }
      ]
    },
    {
      "cell_type": "code",
      "source": [
        "# Get the leaderboard\n",
        "lb = aml.leaderboard"
      ],
      "metadata": {
        "id": "aMPHe3cVbo7K"
      },
      "id": "aMPHe3cVbo7K",
      "execution_count": 35,
      "outputs": []
    },
    {
      "cell_type": "code",
      "source": [
        "# Predict on test set\n",
        "preds = aml.leader.predict(hf_test)\n",
        "preds"
      ],
      "metadata": {
        "colab": {
          "base_uri": "https://localhost:8080/",
          "height": 219
        },
        "id": "6M0Qb6l8b_Dx",
        "outputId": "5a25447e-41a2-4313-eb28-41b06f39fa19"
      },
      "id": "6M0Qb6l8b_Dx",
      "execution_count": 36,
      "outputs": [
        {
          "output_type": "stream",
          "name": "stdout",
          "text": [
            "xgboost prediction progress: |███████████████████████████████████████████████████| (done) 100%\n"
          ]
        },
        {
          "output_type": "execute_result",
          "data": {
            "text/plain": [
              "  predict\n",
              "---------\n",
              " 0.477948\n",
              " 0.477948\n",
              " 0.477948\n",
              " 0.477948\n",
              "[4 rows x 1 column]\n"
            ],
            "text/html": [
              "<table class='dataframe'>\n",
              "<thead>\n",
              "<tr><th style=\"text-align: right;\">  predict</th></tr>\n",
              "</thead>\n",
              "<tbody>\n",
              "<tr><td style=\"text-align: right;\"> 0.477948</td></tr>\n",
              "<tr><td style=\"text-align: right;\"> 0.477948</td></tr>\n",
              "<tr><td style=\"text-align: right;\"> 0.477948</td></tr>\n",
              "<tr><td style=\"text-align: right;\"> 0.477948</td></tr>\n",
              "</tbody>\n",
              "</table><pre style='font-size: smaller; margin-bottom: 1em;'>[4 rows x 1 column]</pre>"
            ]
          },
          "metadata": {},
          "execution_count": 36
        }
      ]
    },
    {
      "cell_type": "code",
      "source": [
        "\n",
        "# Shutdown the H2O cluster\n",
        "h2o.cluster().shutdown()"
      ],
      "metadata": {
        "colab": {
          "base_uri": "https://localhost:8080/"
        },
        "id": "9HjMPfymcClC",
        "outputId": "64e1a8ca-6060-4c2f-f114-f5eb1d308c0e"
      },
      "id": "9HjMPfymcClC",
      "execution_count": 37,
      "outputs": [
        {
          "output_type": "stream",
          "name": "stdout",
          "text": [
            "H2O session _sid_b0e4 closed.\n"
          ]
        }
      ]
    },
    {
      "cell_type": "code",
      "source": [],
      "metadata": {
        "id": "6Q9Ke0G4cMZR"
      },
      "id": "6Q9Ke0G4cMZR",
      "execution_count": 37,
      "outputs": []
    }
  ],
  "metadata": {
    "colab": {
      "provenance": []
    },
    "language_info": {
      "name": "python"
    },
    "kernelspec": {
      "name": "python3",
      "display_name": "Python 3"
    }
  },
  "nbformat": 4,
  "nbformat_minor": 5
}